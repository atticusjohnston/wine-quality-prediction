{
 "cells": [
  {
   "cell_type": "code",
   "id": "initial_id",
   "metadata": {
    "collapsed": true,
    "ExecuteTime": {
     "end_time": "2024-04-22T22:46:05.791452Z",
     "start_time": "2024-04-22T22:46:05.788986Z"
    }
   },
   "source": [
    "import torch\n",
    "from torch import nn\n",
    "import matplotlib.pyplot as plt\n",
    "import pandas as pd\n",
    "from tqdm.notebook import tqdm\n",
    "from torch.utils.data import Dataset, DataLoader\n",
    "from sklearn.model_selection import train_test_split\n",
    "import os\n",
    "import numpy as np"
   ],
   "outputs": [],
   "execution_count": 288
  },
  {
   "metadata": {
    "ExecuteTime": {
     "end_time": "2024-04-22T22:46:05.832716Z",
     "start_time": "2024-04-22T22:46:05.830898Z"
    }
   },
   "cell_type": "code",
   "source": [
    "def notify(title, text, model):\n",
    "    os.system(\"\"\"\n",
    "              osascript -e 'display notification \"{}\" with title \"{}\"'\n",
    "              \"\"\".format(text, title))\n",
    "    os.system(f'say \"{model.__class__.__name__} training complete!\"')"
   ],
   "id": "99ba406598c75c72",
   "outputs": [],
   "execution_count": 289
  },
  {
   "metadata": {
    "ExecuteTime": {
     "end_time": "2024-04-22T22:46:05.840469Z",
     "start_time": "2024-04-22T22:46:05.833745Z"
    }
   },
   "cell_type": "code",
   "source": [
    "rawWhitesDF = pd.read_csv(\"raw-wine-data/winequality-white.csv\", delimiter=\";\")\n",
    "rawRedsDF = pd.read_csv(\"raw-wine-data/winequality-red.csv\", delimiter=\";\")"
   ],
   "id": "d7bdcadd3cb71efb",
   "outputs": [],
   "execution_count": 290
  },
  {
   "metadata": {
    "ExecuteTime": {
     "end_time": "2024-04-22T22:46:05.846973Z",
     "start_time": "2024-04-22T22:46:05.841451Z"
    }
   },
   "cell_type": "code",
   "source": "rawWhitesDF.head()",
   "id": "de6c52d8b07f2a33",
   "outputs": [
    {
     "data": {
      "text/plain": [
       "   fixed acidity  volatile acidity  citric acid  residual sugar  chlorides  \\\n",
       "0            7.0              0.27         0.36            20.7      0.045   \n",
       "1            6.3              0.30         0.34             1.6      0.049   \n",
       "2            8.1              0.28         0.40             6.9      0.050   \n",
       "3            7.2              0.23         0.32             8.5      0.058   \n",
       "4            7.2              0.23         0.32             8.5      0.058   \n",
       "\n",
       "   free sulfur dioxide  total sulfur dioxide  density    pH  sulphates  \\\n",
       "0                 45.0                 170.0   1.0010  3.00       0.45   \n",
       "1                 14.0                 132.0   0.9940  3.30       0.49   \n",
       "2                 30.0                  97.0   0.9951  3.26       0.44   \n",
       "3                 47.0                 186.0   0.9956  3.19       0.40   \n",
       "4                 47.0                 186.0   0.9956  3.19       0.40   \n",
       "\n",
       "   alcohol  quality  \n",
       "0      8.8        6  \n",
       "1      9.5        6  \n",
       "2     10.1        6  \n",
       "3      9.9        6  \n",
       "4      9.9        6  "
      ],
      "text/html": [
       "<div>\n",
       "<style scoped>\n",
       "    .dataframe tbody tr th:only-of-type {\n",
       "        vertical-align: middle;\n",
       "    }\n",
       "\n",
       "    .dataframe tbody tr th {\n",
       "        vertical-align: top;\n",
       "    }\n",
       "\n",
       "    .dataframe thead th {\n",
       "        text-align: right;\n",
       "    }\n",
       "</style>\n",
       "<table border=\"1\" class=\"dataframe\">\n",
       "  <thead>\n",
       "    <tr style=\"text-align: right;\">\n",
       "      <th></th>\n",
       "      <th>fixed acidity</th>\n",
       "      <th>volatile acidity</th>\n",
       "      <th>citric acid</th>\n",
       "      <th>residual sugar</th>\n",
       "      <th>chlorides</th>\n",
       "      <th>free sulfur dioxide</th>\n",
       "      <th>total sulfur dioxide</th>\n",
       "      <th>density</th>\n",
       "      <th>pH</th>\n",
       "      <th>sulphates</th>\n",
       "      <th>alcohol</th>\n",
       "      <th>quality</th>\n",
       "    </tr>\n",
       "  </thead>\n",
       "  <tbody>\n",
       "    <tr>\n",
       "      <th>0</th>\n",
       "      <td>7.0</td>\n",
       "      <td>0.27</td>\n",
       "      <td>0.36</td>\n",
       "      <td>20.7</td>\n",
       "      <td>0.045</td>\n",
       "      <td>45.0</td>\n",
       "      <td>170.0</td>\n",
       "      <td>1.0010</td>\n",
       "      <td>3.00</td>\n",
       "      <td>0.45</td>\n",
       "      <td>8.8</td>\n",
       "      <td>6</td>\n",
       "    </tr>\n",
       "    <tr>\n",
       "      <th>1</th>\n",
       "      <td>6.3</td>\n",
       "      <td>0.30</td>\n",
       "      <td>0.34</td>\n",
       "      <td>1.6</td>\n",
       "      <td>0.049</td>\n",
       "      <td>14.0</td>\n",
       "      <td>132.0</td>\n",
       "      <td>0.9940</td>\n",
       "      <td>3.30</td>\n",
       "      <td>0.49</td>\n",
       "      <td>9.5</td>\n",
       "      <td>6</td>\n",
       "    </tr>\n",
       "    <tr>\n",
       "      <th>2</th>\n",
       "      <td>8.1</td>\n",
       "      <td>0.28</td>\n",
       "      <td>0.40</td>\n",
       "      <td>6.9</td>\n",
       "      <td>0.050</td>\n",
       "      <td>30.0</td>\n",
       "      <td>97.0</td>\n",
       "      <td>0.9951</td>\n",
       "      <td>3.26</td>\n",
       "      <td>0.44</td>\n",
       "      <td>10.1</td>\n",
       "      <td>6</td>\n",
       "    </tr>\n",
       "    <tr>\n",
       "      <th>3</th>\n",
       "      <td>7.2</td>\n",
       "      <td>0.23</td>\n",
       "      <td>0.32</td>\n",
       "      <td>8.5</td>\n",
       "      <td>0.058</td>\n",
       "      <td>47.0</td>\n",
       "      <td>186.0</td>\n",
       "      <td>0.9956</td>\n",
       "      <td>3.19</td>\n",
       "      <td>0.40</td>\n",
       "      <td>9.9</td>\n",
       "      <td>6</td>\n",
       "    </tr>\n",
       "    <tr>\n",
       "      <th>4</th>\n",
       "      <td>7.2</td>\n",
       "      <td>0.23</td>\n",
       "      <td>0.32</td>\n",
       "      <td>8.5</td>\n",
       "      <td>0.058</td>\n",
       "      <td>47.0</td>\n",
       "      <td>186.0</td>\n",
       "      <td>0.9956</td>\n",
       "      <td>3.19</td>\n",
       "      <td>0.40</td>\n",
       "      <td>9.9</td>\n",
       "      <td>6</td>\n",
       "    </tr>\n",
       "  </tbody>\n",
       "</table>\n",
       "</div>"
      ]
     },
     "execution_count": 291,
     "metadata": {},
     "output_type": "execute_result"
    }
   ],
   "execution_count": 291
  },
  {
   "metadata": {
    "ExecuteTime": {
     "end_time": "2024-04-22T22:46:05.853976Z",
     "start_time": "2024-04-22T22:46:05.847833Z"
    }
   },
   "cell_type": "code",
   "source": [
    "featureLabels = list(rawWhitesDF.columns.values)\n",
    "classes = [c for c in range(1, 11)]\n",
    "\n",
    "# Normalising the continuous data with MinMax scaling\n",
    "scaledWhitesDF = rawWhitesDF.copy()\n",
    "scaledRedsDF = rawRedsDF.copy()\n",
    "\n",
    "for column in featureLabels[:-1]:\n",
    "    scaledWhitesDF[column] = (scaledWhitesDF[column] - scaledWhitesDF[column].min()) / (scaledWhitesDF[column].max() - scaledWhitesDF[column].min())\n",
    "    scaledRedsDF[column] = (scaledRedsDF[column] - scaledRedsDF[column].min()) / (scaledRedsDF[column].max() - scaledRedsDF[column].min())"
   ],
   "id": "e8d4dfecea288533",
   "outputs": [],
   "execution_count": 292
  },
  {
   "metadata": {
    "ExecuteTime": {
     "end_time": "2024-04-22T22:46:05.857672Z",
     "start_time": "2024-04-22T22:46:05.854608Z"
    }
   },
   "cell_type": "code",
   "source": [
    "whiteTargetsInt = torch.tensor(scaledWhitesDF['quality'].to_numpy())\n",
    "whiteFeatures = torch.tensor(scaledWhitesDF[featureLabels[0:-1]].to_numpy(), requires_grad=True, dtype=torch.float32)\n",
    "\n",
    "redTargetsInt = torch.tensor(scaledRedsDF['quality'].to_numpy())\n",
    "redFeatures = torch.tensor(scaledRedsDF[featureLabels[0:-1]].to_numpy(), requires_grad=True, dtype=torch.float32)"
   ],
   "id": "6653419db253c007",
   "outputs": [],
   "execution_count": 293
  },
  {
   "metadata": {
    "ExecuteTime": {
     "end_time": "2024-04-22T22:46:05.884518Z",
     "start_time": "2024-04-22T22:46:05.859011Z"
    }
   },
   "cell_type": "code",
   "source": [
    "whiteTargets =  []\n",
    "\n",
    "for i, target in enumerate(whiteTargetsInt):\n",
    "    embed = torch.zeros(len(classes), dtype=torch.float32)\n",
    "    embed[target.item()-1] = 1\n",
    "    whiteTargets.append(embed)\n",
    "whiteTargets = torch.stack(whiteTargets).to(torch.float32)\n",
    "\n",
    "redTargets = []\n",
    "\n",
    "for i, target in enumerate(redTargetsInt):\n",
    "    embed = torch.zeros(len(classes), dtype=torch.float32)\n",
    "    embed[target.item()-1] = 1\n",
    "    redTargets.append(embed)\n",
    "redTargets = torch.stack(redTargets).to(torch.float32)"
   ],
   "id": "40f6e671c072ec42",
   "outputs": [],
   "execution_count": 294
  },
  {
   "metadata": {
    "ExecuteTime": {
     "end_time": "2024-04-22T22:46:05.887885Z",
     "start_time": "2024-04-22T22:46:05.885314Z"
    }
   },
   "cell_type": "code",
   "source": [
    "class WineDataset(Dataset):\n",
    "    def __init__(self, features, targets):\n",
    "        self.features = features\n",
    "        self.targets = targets\n",
    "    \n",
    "    def __len__(self):\n",
    "        return len(self.features)\n",
    "    \n",
    "    def __getitem__(self, idx):\n",
    "        sample = {\n",
    "            'features': self.features[idx],\n",
    "            'target': self.targets[idx]\n",
    "        }\n",
    "        return sample"
   ],
   "id": "932790ca7a7c8456",
   "outputs": [],
   "execution_count": 295
  },
  {
   "metadata": {
    "ExecuteTime": {
     "end_time": "2024-04-22T22:46:05.891895Z",
     "start_time": "2024-04-22T22:46:05.888541Z"
    }
   },
   "cell_type": "code",
   "source": [
    "train_indices, test_indices = train_test_split(range(len(whiteFeatures)), test_size=0.2, random_state=57)\n",
    "train_indices, val_indices = train_test_split(train_indices, test_size=0.1, random_state=57)"
   ],
   "id": "15c63b5b1388833c",
   "outputs": [],
   "execution_count": 296
  },
  {
   "metadata": {
    "ExecuteTime": {
     "end_time": "2024-04-22T22:46:05.897010Z",
     "start_time": "2024-04-22T22:46:05.893346Z"
    }
   },
   "cell_type": "code",
   "source": [
    "train_dataset = WineDataset(whiteFeatures[train_indices], whiteTargets[train_indices])\n",
    "val_dataset = WineDataset(whiteFeatures[val_indices], whiteTargets[val_indices])\n",
    "test_dataset = WineDataset(whiteFeatures[test_indices], whiteTargets[test_indices])\n",
    "\n",
    "batch_size = 64\n",
    "\n",
    "train_loader = DataLoader(dataset=train_dataset, batch_size=batch_size, shuffle=True)\n",
    "val_loader = DataLoader(dataset=val_dataset, batch_size=batch_size, shuffle=False)\n",
    "test_loader = DataLoader(dataset=test_dataset, batch_size=batch_size, shuffle=False)\n",
    "\n",
    "red_test_dataset = WineDataset(redFeatures, redTargets)\n",
    "red_test_loader = DataLoader(dataset=red_test_dataset, batch_size=batch_size, shuffle=False)"
   ],
   "id": "474b067400571750",
   "outputs": [],
   "execution_count": 297
  },
  {
   "metadata": {
    "ExecuteTime": {
     "end_time": "2024-04-22T22:46:05.902256Z",
     "start_time": "2024-04-22T22:46:05.897856Z"
    }
   },
   "cell_type": "code",
   "source": [
    "class FeedForwardModel(nn.Module):\n",
    "    def __init__(self, input_size, hidden_size, output_size):\n",
    "        super(FeedForwardModel, self).__init__()\n",
    "        self.fc1 = nn.Linear(input_size, hidden_size)\n",
    "        self.fc2 = nn.Linear(hidden_size, hidden_size)\n",
    "        self.fc3 = nn.Linear(hidden_size, output_size)\n",
    "        self.relu = nn.ReLU()\n",
    "        self.dropout = nn.Dropout(0.5)\n",
    "\n",
    "    def forward(self, x):\n",
    "        x = self.relu(self.fc1(x))\n",
    "        x = self.dropout(x)\n",
    "        x = self.relu(self.fc2(x))\n",
    "        x = self.dropout(x)\n",
    "        x = self.fc3(x)\n",
    "        return x\n",
    "\n",
    "class ConvModel(nn.Module):\n",
    "    def __init__(self, input_channels, output_size, hidden_size):\n",
    "        super(ConvModel, self).__init__()\n",
    "        self.conv1 = nn.Conv1d(in_channels=input_channels, out_channels=16, kernel_size=3, stride=1, padding=1)\n",
    "        self.conv2 = nn.Conv1d(in_channels=16, out_channels=32, kernel_size=3, stride=1, padding=1)\n",
    "        self.pool = nn.MaxPool1d(kernel_size=2, stride=2, padding=0)\n",
    "        self.fc1 = nn.Linear(64, hidden_size)  \n",
    "        self.fc2 = nn.Linear(hidden_size, output_size)\n",
    "        self.relu = nn.ReLU()\n",
    "        self.dropout = nn.Dropout(0.5)\n",
    "\n",
    "    def forward(self, x):\n",
    "        x = x.unsqueeze(1)\n",
    "        # Convolutional layers\n",
    "        x = self.pool(self.relu(self.conv1(x)))\n",
    "        x = self.pool(self.relu(self.conv2(x)))\n",
    "        # Flatten\n",
    "        x = x.reshape(x.shape[0], -1)\n",
    "        # Fully connected layers\n",
    "        x = self.dropout(self.relu(self.fc1(x)))\n",
    "        x = self.fc2(x)\n",
    "        return x\n",
    "    \n",
    "class TransformerModel(nn.Module):\n",
    "    def __init__(self, input_size, output_size, num_layers, num_heads, hidden_size, dropout):\n",
    "        super(TransformerModel, self).__init__()\n",
    "\n",
    "        # Embedding layer\n",
    "        self.embedding = nn.Linear(input_size, hidden_size)\n",
    "\n",
    "        # Transformer encoder layers\n",
    "        encoder_layer = nn.TransformerEncoderLayer(hidden_size, num_heads, hidden_size, dropout, batch_first=True)\n",
    "        self.transformer_encoder = nn.TransformerEncoder(encoder_layer, num_layers)\n",
    "\n",
    "        # Output layer\n",
    "        self.output_layer = nn.Linear(hidden_size, output_size)\n",
    "        \n",
    "        self.relu = nn.ReLU()\n",
    "\n",
    "    def forward(self, x):\n",
    "        # Apply embedding\n",
    "        x = self.embedding(x)\n",
    "        \n",
    "        x = x.unsqueeze(1) # (batch_size, seq_len, hidden_size)\n",
    "        \n",
    "        # Apply transformer encoder\n",
    "        x = self.transformer_encoder(x)\n",
    "\n",
    "        x = x.squeeze(1) # (batch_size, hidden_size)\n",
    "        \n",
    "        # Apply output layer\n",
    "        x = self.relu(self.output_layer(x))\n",
    "\n",
    "        return x"
   ],
   "id": "9bef2aef72b9e27",
   "outputs": [],
   "execution_count": 298
  },
  {
   "metadata": {
    "ExecuteTime": {
     "end_time": "2024-04-22T22:46:05.907626Z",
     "start_time": "2024-04-22T22:46:05.903351Z"
    }
   },
   "cell_type": "code",
   "source": [
    "def train(model, device, train_loader, optimiser, nepoch, scheduler_step_size, scheduler_gamma):\n",
    "    scheduler = torch.optim.lr_scheduler.StepLR(optimiser, step_size=scheduler_step_size, gamma=scheduler_gamma)\n",
    "    model.to(device)\n",
    "    \n",
    "    train_losses, val_losses = [], []\n",
    "\n",
    "    model.train()\n",
    "    \n",
    "    # for epoch in range(nepoch):\n",
    "    for epoch in tqdm(range(nepoch), leave=True, unit='epoch', desc= \"Epochs\"):\n",
    "        \n",
    "        total_train_loss = 0\n",
    "        train_count = 0\n",
    "        total_val_loss = 0\n",
    "        val_count = 0\n",
    "        \n",
    "        for batch in train_loader:\n",
    "            inputs, targets = batch['features'], batch['target']\n",
    "            inputs, targets = inputs.to(device).detach(), targets.to(device).detach()\n",
    "            \n",
    "            optimiser.zero_grad()\n",
    "            outputs = model(inputs)\n",
    "            \n",
    "            train_loss = criterion(outputs, targets)\n",
    "            train_loss.backward()\n",
    "            optimiser.step()\n",
    "            \n",
    "            total_train_loss += train_loss.item()\n",
    "            train_count += 1\n",
    "        \n",
    "        with torch.no_grad():\n",
    "            for batch in val_loader:\n",
    "                inputs, targets = batch['features'], batch['target']\n",
    "                inputs, targets = inputs.to(device), targets.to(device)\n",
    "                \n",
    "                outputs = model(inputs)\n",
    "                \n",
    "                val_loss = criterion(outputs, targets)\n",
    "                \n",
    "                total_val_loss += val_loss.item()\n",
    "                val_count += 1\n",
    "        \n",
    "        train_losses.append(total_train_loss/train_count)\n",
    "        val_losses.append(total_val_loss/val_count)\n",
    "        scheduler.step()\n",
    "    \n",
    "    plt.semilogy(train_losses)\n",
    "    plt.semilogy(val_losses)\n",
    "    plt.legend([\"Train loss\", \"Val. loss\"])\n",
    "    plt.xlabel(\"Epoch\")\n",
    "    plt.ylabel(\"Loss\")\n",
    "    plt.show()\n",
    "    \n",
    "    notify(\"Training Finished\", \"\", model)\n",
    "    # print(\"Final training loss:  \", round(train_losses[-1], 4))\n",
    "    # print(\"Final validation loss:\", round(val_losses[-1], 4))\n",
    "\n",
    "def test(model, device, test_loader):\n",
    "    model.to(device)\n",
    "    \n",
    "    correct, total = 0, 0\n",
    "    model.eval()\n",
    "    \n",
    "    with torch.no_grad():\n",
    "        for batch in test_loader:\n",
    "            inputs, targets = batch['features'], batch['target']\n",
    "            inputs, targets = inputs.to(device), targets.to(device)\n",
    "            \n",
    "            outputs = model(inputs)\n",
    "            \n",
    "            # predicted = torch.argmax(outputs, dim=1)\n",
    "            predicted = torch.topk(outputs, 2, dim=1).indices\n",
    "            actual = torch.argmax(targets, dim=1)\n",
    "            \n",
    "            total += targets.size(0)\n",
    "            correct += torch.sum(torch.any(predicted.eq(actual.unsqueeze(1)), dim=1)).item() # ChatGPT output. Include in write-up.\n",
    "            \n",
    "    acc = round(100 * correct / total, 4)\n",
    "    return acc"
   ],
   "id": "2d1b677378fc6712",
   "outputs": [],
   "execution_count": 299
  },
  {
   "metadata": {
    "ExecuteTime": {
     "end_time": "2024-04-22T23:00:10.665381Z",
     "start_time": "2024-04-22T22:46:05.909363Z"
    }
   },
   "cell_type": "code",
   "source": [
    "baseModel = TransformerModel(input_size=whiteFeatures.shape[1], output_size=len(classes), num_layers=10, num_heads=16, hidden_size=128, dropout=0.5)\n",
    "criterion = nn.CrossEntropyLoss()\n",
    "baseOptimiser = torch.optim.Adam(baseModel.parameters(), lr=1e-4, weight_decay=1e-5)\n",
    "\n",
    "device = torch.device(\"cpu\")\n",
    "# device = torch.device(\"mps\" if torch.backends.mps.is_built() else \"cpu\")\n",
    "\n",
    "scheduler_step_size = 100\n",
    "scheduler_gamma = 0.1\n",
    "nepoch = 1000\n",
    "\n",
    "train(baseModel, device, train_loader, baseOptimiser, nepoch, scheduler_step_size, scheduler_gamma)"
   ],
   "id": "c57326ecc722af3e",
   "outputs": [
    {
     "data": {
      "text/plain": [
       "Epochs:   0%|          | 0/1000 [00:00<?, ?epoch/s]"
      ],
      "application/vnd.jupyter.widget-view+json": {
       "version_major": 2,
       "version_minor": 0,
       "model_id": "f5d45e53a1c24432bec600fd75502f31"
      }
     },
     "metadata": {},
     "output_type": "display_data"
    },
    {
     "data": {
      "text/plain": [
       "<Figure size 640x480 with 1 Axes>"
      ],
      "image/png": "[encoded data removed]"
     },
     "metadata": {},
     "output_type": "display_data"
    }
   ],
   "execution_count": 300
  },
  {
   "metadata": {
    "ExecuteTime": {
     "end_time": "2024-04-22T23:00:10.722984Z",
     "start_time": "2024-04-22T23:00:10.667292Z"
    }
   },
   "cell_type": "code",
   "source": [
    "# Testing the base model on withheld white wine data.\n",
    "white_base_acc = test(baseModel, device, test_loader)\n",
    "print(\"Base model top-2 accuracy on white wine dataset:\", white_base_acc)"
   ],
   "id": "7fa2d2ed08a9d9de",
   "outputs": [
    {
     "name": "stdout",
     "output_type": "stream",
     "text": [
      "Base model top-2 accuracy on white wine dataset: 85.102\n"
     ]
    }
   ],
   "execution_count": 301
  },
  {
   "metadata": {
    "ExecuteTime": {
     "end_time": "2024-04-22T23:00:10.734672Z",
     "start_time": "2024-04-22T23:00:10.723682Z"
    }
   },
   "cell_type": "code",
   "source": [
    "# Printing model summary\n",
    "import torchinfo\n",
    "print(torchinfo.summary(baseModel, (64, 11), col_names = (\"input_size\", \"output_size\", \"num_params\")))"
   ],
   "id": "b492c071ad6a412f",
   "outputs": [
    {
     "name": "stdout",
     "output_type": "stream",
     "text": [
      "========================================================================================================================\n",
      "Layer (type:depth-idx)                        Input Shape               Output Shape              Param #\n",
      "========================================================================================================================\n",
      "TransformerModel                              [64, 11]                  [64, 10]                  --\n",
      "├─Linear: 1-1                                 [64, 11]                  [64, 128]                 1,536\n",
      "├─TransformerEncoder: 1-2                     [64, 1, 128]              [64, 1, 128]              --\n",
      "│    └─ModuleList: 2-1                        --                        --                        --\n",
      "│    │    └─TransformerEncoderLayer: 3-1      [64, 1, 128]              [64, 1, 128]              99,584\n",
      "│    │    └─TransformerEncoderLayer: 3-2      [64, 1, 128]              [64, 1, 128]              99,584\n",
      "│    │    └─TransformerEncoderLayer: 3-3      [64, 1, 128]              [64, 1, 128]              99,584\n",
      "│    │    └─TransformerEncoderLayer: 3-4      [64, 1, 128]              [64, 1, 128]              99,584\n",
      "│    │    └─TransformerEncoderLayer: 3-5      [64, 1, 128]              [64, 1, 128]              99,584\n",
      "│    │    └─TransformerEncoderLayer: 3-6      [64, 1, 128]              [64, 1, 128]              99,584\n",
      "│    │    └─TransformerEncoderLayer: 3-7      [64, 1, 128]              [64, 1, 128]              99,584\n",
      "│    │    └─TransformerEncoderLayer: 3-8      [64, 1, 128]              [64, 1, 128]              99,584\n",
      "│    │    └─TransformerEncoderLayer: 3-9      [64, 1, 128]              [64, 1, 128]              99,584\n",
      "│    │    └─TransformerEncoderLayer: 3-10     [64, 1, 128]              [64, 1, 128]              99,584\n",
      "├─Linear: 1-3                                 [64, 128]                 [64, 10]                  1,290\n",
      "├─ReLU: 1-4                                   [64, 10]                  [64, 10]                  --\n",
      "========================================================================================================================\n",
      "Total params: 998,666\n",
      "Trainable params: 998,666\n",
      "Non-trainable params: 0\n",
      "Total mult-adds (Units.MEGABYTES): 0.18\n",
      "========================================================================================================================\n",
      "Input size (MB): 0.00\n",
      "Forward/backward pass size (MB): 0.07\n",
      "Params size (MB): 0.01\n",
      "Estimated Total Size (MB): 0.08\n",
      "========================================================================================================================\n"
     ]
    }
   ],
   "execution_count": 302
  },
  {
   "metadata": {},
   "cell_type": "markdown",
   "source": "Computational Experiment 1: Testing base model generalisability on red wine dataset.",
   "id": "69e193f2e30013c5"
  },
  {
   "metadata": {
    "ExecuteTime": {
     "end_time": "2024-04-22T23:00:10.810302Z",
     "start_time": "2024-04-22T23:00:10.736115Z"
    }
   },
   "cell_type": "code",
   "source": [
    "# Testing the model on red wine data.\n",
    "red_base_acc = test(baseModel, device, red_test_loader)\n",
    "print(\"Base model top-2 accuracy on red wine dataset:\", red_base_acc)"
   ],
   "id": "d491cfe08e04fd13",
   "outputs": [
    {
     "name": "stdout",
     "output_type": "stream",
     "text": [
      "Base model top-2 accuracy on red wine dataset: 74.5466\n"
     ]
    }
   ],
   "execution_count": 303
  },
  {
   "metadata": {},
   "cell_type": "markdown",
   "source": "Computational Experiment 2: Comparing performance of transformer, feed-forward and CNN.",
   "id": "ce3178a3b98e689c"
  },
  {
   "metadata": {
    "ExecuteTime": {
     "end_time": "2024-04-22T23:00:46.244387Z",
     "start_time": "2024-04-22T23:00:10.811103Z"
    }
   },
   "cell_type": "code",
   "source": [
    "FFModel = FeedForwardModel(input_size=whiteFeatures.shape[1], output_size=len(classes),hidden_size=128)\n",
    "FFOptimiser = torch.optim.Adam(FFModel.parameters(), lr=1e-4, weight_decay=1e-5)\n",
    "\n",
    "train(FFModel, device, train_loader, FFOptimiser, nepoch, scheduler_step_size, scheduler_gamma)"
   ],
   "id": "a1ebc58fe6bc58a8",
   "outputs": [
    {
     "data": {
      "text/plain": [
       "Epochs:   0%|          | 0/1000 [00:00<?, ?epoch/s]"
      ],
      "application/vnd.jupyter.widget-view+json": {
       "version_major": 2,
       "version_minor": 0,
       "model_id": "5e56c35a6df148a2bec6c4f41d60f0ae"
      }
     },
     "metadata": {},
     "output_type": "display_data"
    },
    {
     "data": {
      "text/plain": [
       "<Figure size 640x480 with 1 Axes>"
      ],
      "image/png": "[encoded data removed]"
     },
     "metadata": {},
     "output_type": "display_data"
    }
   ],
   "execution_count": 304
  },
  {
   "metadata": {
    "ExecuteTime": {
     "end_time": "2024-04-22T23:00:46.256163Z",
     "start_time": "2024-04-22T23:00:46.245947Z"
    }
   },
   "cell_type": "code",
   "source": [
    "# Testing the feed-forward model on withheld white wine data.\n",
    "white_FF_acc = test(FFModel, device, test_loader)\n",
    "print(\"Feed-forward model top-2 accuracy on white wine dataset:\", white_FF_acc) # "
   ],
   "id": "6fb6a62f9c42d3b4",
   "outputs": [
    {
     "name": "stdout",
     "output_type": "stream",
     "text": [
      "Feed-forward model top-2 accuracy on white wine dataset: 84.5918\n"
     ]
    }
   ],
   "execution_count": 305
  },
  {
   "metadata": {},
   "cell_type": "markdown",
   "source": [
    "Pretty similar. Makes sense since Transformers are best at sequential because of the multi-head attention. Might not even be worth using transformers because of the much longer training time.  \\\n",
    "    - ~6 mins to train transformer \\\n",
    "    - "
   ],
   "id": "e7c5f51cfec8fc2c"
  },
  {
   "metadata": {
    "ExecuteTime": {
     "end_time": "2024-04-22T23:03:54.837966Z",
     "start_time": "2024-04-22T23:00:46.257116Z"
    }
   },
   "cell_type": "code",
   "source": [
    "CNNModel = ConvModel(input_channels=1, output_size=len(classes), hidden_size=128)\n",
    "CNNOptimiser = torch.optim.Adam(CNNModel.parameters(), lr=1e-4, weight_decay=1e-5)\n",
    "\n",
    "train(CNNModel, device, train_loader, CNNOptimiser, nepoch, scheduler_step_size, scheduler_gamma)"
   ],
   "id": "5e5cbd6b70f24a7e",
   "outputs": [
    {
     "data": {
      "text/plain": [
       "Epochs:   0%|          | 0/1000 [00:00<?, ?epoch/s]"
      ],
      "application/vnd.jupyter.widget-view+json": {
       "version_major": 2,
       "version_minor": 0,
       "model_id": "db32f8d14f7d4762a461ddd1e99a4003"
      }
     },
     "metadata": {},
     "output_type": "display_data"
    },
    {
     "data": {
      "text/plain": [
       "<Figure size 640x480 with 1 Axes>"
      ],
      "image/png": "[encoded data removed]"
     },
     "metadata": {},
     "output_type": "display_data"
    }
   ],
   "execution_count": 306
  },
  {
   "metadata": {
    "ExecuteTime": {
     "end_time": "2024-04-22T23:03:54.864196Z",
     "start_time": "2024-04-22T23:03:54.839766Z"
    }
   },
   "cell_type": "code",
   "source": [
    "# Testing the CNN model on withheld white wine data.\n",
    "white_CNN_acc = test(CNNModel, device, test_loader)\n",
    "print(\"CNN model top-2 accuracy on white wine dataset:\", white_CNN_acc) # "
   ],
   "id": "25acda5ed03c3420",
   "outputs": [
    {
     "name": "stdout",
     "output_type": "stream",
     "text": [
      "CNN model top-2 accuracy on white wine dataset: 84.4898\n"
     ]
    }
   ],
   "execution_count": 307
  },
  {
   "metadata": {},
   "cell_type": "markdown",
   "source": "You could call the three all even since I spent the most time toying with the transformer model hyperparameters trying to get it optimal. Not how well each of them works, its how well they work in unison.",
   "id": "3ab0e9f5d4229015"
  },
  {
   "metadata": {},
   "cell_type": "markdown",
   "source": "Computational Experiment 3: ",
   "id": "738199fae4ee79df"
  }
 ],
 "metadata": {
  "kernelspec": {
   "display_name": "Python 3",
   "language": "python",
   "name": "python3"
  },
  "language_info": {
   "codemirror_mode": {
    "name": "ipython",
    "version": 2
   },
   "file_extension": ".py",
   "mimetype": "text/x-python",
   "name": "python",
   "nbconvert_exporter": "python",
   "pygments_lexer": "ipython2",
   "version": "2.7.6"
  }
 },
 "nbformat": 4,
 "nbformat_minor": 5
}
