{
 "cells": [
  {
   "cell_type": "code",
   "id": "initial_id",
   "metadata": {
    "collapsed": true,
    "ExecuteTime": {
     "end_time": "2024-04-21T17:12:39.998869Z",
     "start_time": "2024-04-21T17:12:39.996376Z"
    }
   },
   "source": [
    "import torch\n",
    "from torch import nn\n",
    "import numpy as np\n",
    "import matplotlib.pyplot as plt\n",
    "import pandas as pd\n",
    "from tqdm.notebook import tqdm\n",
    "from torch.utils.data import Dataset, DataLoader\n",
    "from sklearn.model_selection import train_test_split"
   ],
   "outputs": [],
   "execution_count": 127
  },
  {
   "metadata": {
    "ExecuteTime": {
     "end_time": "2024-04-21T17:12:40.023457Z",
     "start_time": "2024-04-21T17:12:40.015867Z"
    }
   },
   "cell_type": "code",
   "source": [
    "rawWhitesDF = pd.read_csv(\"raw-wine-data/winequality-white.csv\", delimiter=\";\")\n",
    "rawRedsDF = pd.read_csv(\"raw-wine-data/winequality-red.csv\", delimiter=\";\")"
   ],
   "id": "d7bdcadd3cb71efb",
   "outputs": [],
   "execution_count": 128
  },
  {
   "metadata": {
    "ExecuteTime": {
     "end_time": "2024-04-21T17:12:40.033968Z",
     "start_time": "2024-04-21T17:12:40.027830Z"
    }
   },
   "cell_type": "code",
   "source": "rawWhitesDF.head()",
   "id": "de6c52d8b07f2a33",
   "outputs": [
    {
     "data": {
      "text/plain": [
       "   fixed acidity  volatile acidity  citric acid  residual sugar  chlorides  \\\n",
       "0            7.0              0.27         0.36            20.7      0.045   \n",
       "1            6.3              0.30         0.34             1.6      0.049   \n",
       "2            8.1              0.28         0.40             6.9      0.050   \n",
       "3            7.2              0.23         0.32             8.5      0.058   \n",
       "4            7.2              0.23         0.32             8.5      0.058   \n",
       "\n",
       "   free sulfur dioxide  total sulfur dioxide  density    pH  sulphates  \\\n",
       "0                 45.0                 170.0   1.0010  3.00       0.45   \n",
       "1                 14.0                 132.0   0.9940  3.30       0.49   \n",
       "2                 30.0                  97.0   0.9951  3.26       0.44   \n",
       "3                 47.0                 186.0   0.9956  3.19       0.40   \n",
       "4                 47.0                 186.0   0.9956  3.19       0.40   \n",
       "\n",
       "   alcohol  quality  \n",
       "0      8.8        6  \n",
       "1      9.5        6  \n",
       "2     10.1        6  \n",
       "3      9.9        6  \n",
       "4      9.9        6  "
      ],
      "text/html": [
       "<div>\n",
       "<style scoped>\n",
       "    .dataframe tbody tr th:only-of-type {\n",
       "        vertical-align: middle;\n",
       "    }\n",
       "\n",
       "    .dataframe tbody tr th {\n",
       "        vertical-align: top;\n",
       "    }\n",
       "\n",
       "    .dataframe thead th {\n",
       "        text-align: right;\n",
       "    }\n",
       "</style>\n",
       "<table border=\"1\" class=\"dataframe\">\n",
       "  <thead>\n",
       "    <tr style=\"text-align: right;\">\n",
       "      <th></th>\n",
       "      <th>fixed acidity</th>\n",
       "      <th>volatile acidity</th>\n",
       "      <th>citric acid</th>\n",
       "      <th>residual sugar</th>\n",
       "      <th>chlorides</th>\n",
       "      <th>free sulfur dioxide</th>\n",
       "      <th>total sulfur dioxide</th>\n",
       "      <th>density</th>\n",
       "      <th>pH</th>\n",
       "      <th>sulphates</th>\n",
       "      <th>alcohol</th>\n",
       "      <th>quality</th>\n",
       "    </tr>\n",
       "  </thead>\n",
       "  <tbody>\n",
       "    <tr>\n",
       "      <th>0</th>\n",
       "      <td>7.0</td>\n",
       "      <td>0.27</td>\n",
       "      <td>0.36</td>\n",
       "      <td>20.7</td>\n",
       "      <td>0.045</td>\n",
       "      <td>45.0</td>\n",
       "      <td>170.0</td>\n",
       "      <td>1.0010</td>\n",
       "      <td>3.00</td>\n",
       "      <td>0.45</td>\n",
       "      <td>8.8</td>\n",
       "      <td>6</td>\n",
       "    </tr>\n",
       "    <tr>\n",
       "      <th>1</th>\n",
       "      <td>6.3</td>\n",
       "      <td>0.30</td>\n",
       "      <td>0.34</td>\n",
       "      <td>1.6</td>\n",
       "      <td>0.049</td>\n",
       "      <td>14.0</td>\n",
       "      <td>132.0</td>\n",
       "      <td>0.9940</td>\n",
       "      <td>3.30</td>\n",
       "      <td>0.49</td>\n",
       "      <td>9.5</td>\n",
       "      <td>6</td>\n",
       "    </tr>\n",
       "    <tr>\n",
       "      <th>2</th>\n",
       "      <td>8.1</td>\n",
       "      <td>0.28</td>\n",
       "      <td>0.40</td>\n",
       "      <td>6.9</td>\n",
       "      <td>0.050</td>\n",
       "      <td>30.0</td>\n",
       "      <td>97.0</td>\n",
       "      <td>0.9951</td>\n",
       "      <td>3.26</td>\n",
       "      <td>0.44</td>\n",
       "      <td>10.1</td>\n",
       "      <td>6</td>\n",
       "    </tr>\n",
       "    <tr>\n",
       "      <th>3</th>\n",
       "      <td>7.2</td>\n",
       "      <td>0.23</td>\n",
       "      <td>0.32</td>\n",
       "      <td>8.5</td>\n",
       "      <td>0.058</td>\n",
       "      <td>47.0</td>\n",
       "      <td>186.0</td>\n",
       "      <td>0.9956</td>\n",
       "      <td>3.19</td>\n",
       "      <td>0.40</td>\n",
       "      <td>9.9</td>\n",
       "      <td>6</td>\n",
       "    </tr>\n",
       "    <tr>\n",
       "      <th>4</th>\n",
       "      <td>7.2</td>\n",
       "      <td>0.23</td>\n",
       "      <td>0.32</td>\n",
       "      <td>8.5</td>\n",
       "      <td>0.058</td>\n",
       "      <td>47.0</td>\n",
       "      <td>186.0</td>\n",
       "      <td>0.9956</td>\n",
       "      <td>3.19</td>\n",
       "      <td>0.40</td>\n",
       "      <td>9.9</td>\n",
       "      <td>6</td>\n",
       "    </tr>\n",
       "  </tbody>\n",
       "</table>\n",
       "</div>"
      ]
     },
     "execution_count": 129,
     "metadata": {},
     "output_type": "execute_result"
    }
   ],
   "execution_count": 129
  },
  {
   "metadata": {
    "ExecuteTime": {
     "end_time": "2024-04-21T17:12:40.039918Z",
     "start_time": "2024-04-21T17:12:40.034905Z"
    }
   },
   "cell_type": "code",
   "source": [
    "featureLabels = list(rawWhitesDF.columns.values)\n",
    "classes = [c for c in range(1, 11)]\n",
    "\n",
    "# Normalising the continuous data with Z-score scaling\n",
    "scaledWhitesDF = rawWhitesDF.copy()\n",
    "\n",
    "for column in featureLabels[:-1]:\n",
    "    scaledWhitesDF[column] = (scaledWhitesDF[column] - scaledWhitesDF[column].mean()) / scaledWhitesDF[column].std()"
   ],
   "id": "e8d4dfecea288533",
   "outputs": [],
   "execution_count": 130
  },
  {
   "metadata": {
    "ExecuteTime": {
     "end_time": "2024-04-21T17:12:40.043448Z",
     "start_time": "2024-04-21T17:12:40.040472Z"
    }
   },
   "cell_type": "code",
   "source": [
    "whiteTargetsInt = torch.tensor(scaledWhitesDF['quality'].to_numpy())\n",
    "whiteFeatures = torch.tensor(scaledWhitesDF[featureLabels[0:-1]].to_numpy(), requires_grad=True, dtype=torch.float32)"
   ],
   "id": "6653419db253c007",
   "outputs": [],
   "execution_count": 131
  },
  {
   "metadata": {
    "ExecuteTime": {
     "end_time": "2024-04-21T17:12:40.063960Z",
     "start_time": "2024-04-21T17:12:40.044865Z"
    }
   },
   "cell_type": "code",
   "source": [
    "whiteTargets =  []\n",
    "for i, target in enumerate(whiteTargetsInt):\n",
    "    embed = torch.zeros(len(classes), dtype=torch.float32)\n",
    "    embed[target.item()-1] = 1\n",
    "    whiteTargets.append(embed)\n",
    "whiteTargets = torch.stack(whiteTargets).to(torch.float32)"
   ],
   "id": "40f6e671c072ec42",
   "outputs": [],
   "execution_count": 132
  },
  {
   "metadata": {
    "ExecuteTime": {
     "end_time": "2024-04-21T17:12:40.067153Z",
     "start_time": "2024-04-21T17:12:40.065154Z"
    }
   },
   "cell_type": "code",
   "source": [
    "print(whiteTargets.shape)\n",
    "print(whiteFeatures.shape)"
   ],
   "id": "e7376f6805e40f0a",
   "outputs": [
    {
     "name": "stdout",
     "output_type": "stream",
     "text": [
      "torch.Size([4898, 10])\n",
      "torch.Size([4898, 11])\n"
     ]
    }
   ],
   "execution_count": 133
  },
  {
   "metadata": {
    "ExecuteTime": {
     "end_time": "2024-04-21T17:12:40.070547Z",
     "start_time": "2024-04-21T17:12:40.068482Z"
    }
   },
   "cell_type": "code",
   "source": [
    "class WineDataset(Dataset):\n",
    "    def __init__(self, features, targets):\n",
    "        self.features = features\n",
    "        self.targets = targets\n",
    "    \n",
    "    def __len__(self):\n",
    "        return len(self.features)\n",
    "    \n",
    "    def __getitem__(self, idx):\n",
    "        sample = {\n",
    "            'features': self.features[idx],\n",
    "            'target': self.targets[idx]\n",
    "        }\n",
    "        return sample"
   ],
   "id": "932790ca7a7c8456",
   "outputs": [],
   "execution_count": 134
  },
  {
   "metadata": {
    "ExecuteTime": {
     "end_time": "2024-04-21T17:12:40.074023Z",
     "start_time": "2024-04-21T17:12:40.071152Z"
    }
   },
   "cell_type": "code",
   "source": [
    "train_indices, test_indices = train_test_split(range(len(whiteFeatures)), test_size=0.2)\n",
    "train_indices, val_indices = train_test_split(train_indices, test_size=0.15)"
   ],
   "id": "15c63b5b1388833c",
   "outputs": [],
   "execution_count": 135
  },
  {
   "metadata": {
    "ExecuteTime": {
     "end_time": "2024-04-21T17:12:40.078376Z",
     "start_time": "2024-04-21T17:12:40.074796Z"
    }
   },
   "cell_type": "code",
   "source": [
    "train_dataset = WineDataset(whiteFeatures[train_indices], whiteTargets[train_indices])\n",
    "val_dataset = WineDataset(whiteFeatures[val_indices], whiteTargets[val_indices])\n",
    "test_dataset = WineDataset(whiteFeatures[test_indices], whiteTargets[test_indices])\n",
    "\n",
    "batch_size = 150\n",
    "\n",
    "train_loader = DataLoader(dataset=train_dataset, batch_size=batch_size, shuffle=True)\n",
    "val_loader = DataLoader(dataset=val_dataset, batch_size=batch_size, shuffle=False)\n",
    "test_loader = DataLoader(dataset=test_dataset, batch_size=batch_size, shuffle=False)"
   ],
   "id": "474b067400571750",
   "outputs": [],
   "execution_count": 136
  },
  {
   "metadata": {
    "ExecuteTime": {
     "end_time": "2024-04-21T17:23:34.778257Z",
     "start_time": "2024-04-21T17:23:34.773294Z"
    }
   },
   "cell_type": "code",
   "source": [
    "class SimpleNet(nn.Module):\n",
    "    def __init__(self, input_size, hidden_size, num_classes):\n",
    "        super(SimpleNet, self).__init__()\n",
    "        self.fc1 = nn.Linear(input_size, hidden_size)\n",
    "        self.fc2 = nn.Linear(hidden_size, hidden_size)\n",
    "        self.fc3 = nn.Linear(hidden_size, num_classes)\n",
    "        self.relu = nn.ReLU()\n",
    "\n",
    "    def forward(self, x):\n",
    "        x = self.relu(self.fc1(x))\n",
    "        x = self.relu(self.fc2(x))\n",
    "        x = self.fc3(x)\n",
    "        return x\n",
    "    \n",
    "class TransformerModel(nn.Module):\n",
    "    def __init__(self, input_size, output_size, num_layers=3, num_heads=8, hidden_size=128, dropout=0.1):\n",
    "        super(TransformerModel, self).__init__()\n",
    "\n",
    "        # Embedding layer\n",
    "        self.embedding = nn.Linear(input_size, hidden_size)\n",
    "\n",
    "        # Transformer encoder layers\n",
    "        encoder_layer = nn.TransformerEncoderLayer(hidden_size, num_heads, hidden_size, dropout, batch_first=True)\n",
    "        self.transformer_encoder = nn.TransformerEncoder(encoder_layer, num_layers)\n",
    "\n",
    "        # Output layer\n",
    "        self.output_layer = nn.Linear(hidden_size, output_size)\n",
    "\n",
    "    def forward(self, x):\n",
    "        # Apply embedding\n",
    "        x = self.embedding(x)\n",
    "        \n",
    "        x = x.unsqueeze(0)\n",
    "\n",
    "        # Permute dimensions for Transformer\n",
    "        x = x.permute(1, 0, 2)  # (seq_len, batch_size, hidden_size)\n",
    "\n",
    "        # Apply transformer encoder\n",
    "        x = self.transformer_encoder(x)\n",
    "\n",
    "        # Back to original dimensions\n",
    "        x = x.permute(1, 0, 2)  # (batch_size, seq_len, hidden_size)\n",
    "        \n",
    "        x = x.squeeze(0)\n",
    "\n",
    "        # Apply output layer\n",
    "        x = self.output_layer(x)\n",
    "\n",
    "        return x"
   ],
   "id": "9bef2aef72b9e27",
   "outputs": [],
   "execution_count": 145
  },
  {
   "metadata": {
    "ExecuteTime": {
     "end_time": "2024-04-21T17:23:47.519221Z",
     "start_time": "2024-04-21T17:23:35.595360Z"
    }
   },
   "cell_type": "code",
   "source": [
    "model = TransformerModel(input_size=whiteFeatures.shape[1], output_size=len(classes))\n",
    "criterion = nn.CrossEntropyLoss()\n",
    "optimiser = torch.optim.SGD(model.parameters(), lr=1e-4)\n",
    "# scheduler = torch.optim.lr_scheduler.StepLR(optimiser, step_size=50, gamma=0.1)\n",
    "nn.utils.clip_grad_norm_(model.parameters(), 1)\n",
    "\n",
    "device = torch.device(\"cpu\")\n",
    "# device = torch.device(\"mps\" if torch.backends.mps.is_built() else \"cpu\")\n",
    "model.to(device)\n",
    "\n",
    "nepoch = 200\n",
    "\n",
    "train_losses = []\n",
    "val_losses = []\n",
    "\n",
    "# for epoch in range(nepoch):\n",
    "for epoch in tqdm(range(nepoch), leave=True, unit='epoch', desc= \"Epochs\"):\n",
    "    \n",
    "    total_train_loss = 0\n",
    "    train_count = 0\n",
    "    total_val_loss = 0\n",
    "    val_count = 0\n",
    "    \n",
    "    for batch in train_loader:\n",
    "        inputs, targets = batch['features'], batch['target']\n",
    "        inputs, targets = inputs.to(device).detach(), targets.to(device).detach()\n",
    "        \n",
    "        inputs = inputs[:2]\n",
    "        targets = targets[:2]\n",
    "        \n",
    "        optimiser.zero_grad()\n",
    "        outputs = model(inputs)\n",
    "        \n",
    "        train_loss = criterion(outputs, targets)\n",
    "        train_loss.backward()\n",
    "        optimiser.step()\n",
    "        \n",
    "        total_train_loss += train_loss.item()\n",
    "        train_count += 1\n",
    "    \n",
    "    with torch.no_grad():\n",
    "        for batch in val_loader:\n",
    "            inputs, targets = batch['features'], batch['target']\n",
    "            inputs, targets = inputs.to(device), targets.to(device)\n",
    "            \n",
    "            inputs = inputs[:2]\n",
    "            targets = targets[:2]\n",
    "            \n",
    "            outputs = model(inputs)\n",
    "            \n",
    "            val_loss = criterion(outputs, targets)\n",
    "            \n",
    "            total_val_loss += val_loss.item()\n",
    "            val_count += 1\n",
    "    \n",
    "    train_losses.append(total_train_loss/train_count)\n",
    "    val_losses.append(total_val_loss/val_count)\n",
    "    # scheduler.step()\n",
    "\n",
    "plt.semilogy(train_losses)\n",
    "plt.semilogy(val_losses)\n",
    "plt.legend([\"Train loss\", \"Val. loss\"])\n",
    "plt.xlabel(\"Epoch\")\n",
    "plt.ylabel(\"Loss\")\n",
    "plt.show()"
   ],
   "id": "c57326ecc722af3e",
   "outputs": [
    {
     "data": {
      "text/plain": [
       "Epochs:   0%|          | 0/200 [00:00<?, ?epoch/s]"
      ],
      "application/vnd.jupyter.widget-view+json": {
       "version_major": 2,
       "version_minor": 0,
       "model_id": "7cfd3d9cde464224a1e8992cd0aa231b"
      }
     },
     "metadata": {},
     "output_type": "display_data"
    },
    {
     "data": {
      "text/plain": [
       "<Figure size 640x480 with 1 Axes>"
      ],
      "image/png": "[encoded data removed]"
     },
     "metadata": {},
     "output_type": "display_data"
    }
   ],
   "execution_count": 146
  },
  {
   "metadata": {
    "ExecuteTime": {
     "end_time": "2024-04-21T17:26:19.271877Z",
     "start_time": "2024-04-21T17:26:19.247089Z"
    }
   },
   "cell_type": "code",
   "source": [
    "correct = 0\n",
    "total = 0\n",
    "true, pred = [], []\n",
    "\n",
    "with torch.no_grad():\n",
    "    for batch in test_loader:\n",
    "        inputs, targets = batch['features'], batch['target']\n",
    "        inputs, targets = inputs.to(device), targets.to(device)\n",
    "        \n",
    "        outputs = model(inputs)\n",
    "        \n",
    "        predicted = torch.argmax(outputs, dim=1)\n",
    "        actual = torch.argmax(targets, dim=1)\n",
    "        \n",
    "        total += targets.size(0)\n",
    "        correct += (predicted == actual).sum().item()\n",
    "        \n",
    "        true.append(actual)\n",
    "        pred.append(predicted)\n",
    "        \n",
    "acc = 100 * correct / total\n"
   ],
   "id": "7fa2d2ed08a9d9de",
   "outputs": [],
   "execution_count": 157
  },
  {
   "metadata": {
    "ExecuteTime": {
     "end_time": "2024-04-21T17:26:21.195499Z",
     "start_time": "2024-04-21T17:26:21.193116Z"
    }
   },
   "cell_type": "code",
   "source": "print(acc)",
   "id": "38f1b4d5ea86394b",
   "outputs": [
    {
     "name": "stdout",
     "output_type": "stream",
     "text": [
      "48.775510204081634\n"
     ]
    }
   ],
   "execution_count": 158
  },
  {
   "metadata": {
    "ExecuteTime": {
     "end_time": "2024-04-21T17:26:22.381732Z",
     "start_time": "2024-04-21T17:26:22.374056Z"
    }
   },
   "cell_type": "code",
   "source": [
    "print(true)\n",
    "print(pred)"
   ],
   "id": "5ebc2dd5aea9973d",
   "outputs": [
    {
     "name": "stdout",
     "output_type": "stream",
     "text": [
      "[tensor([4, 6, 7, 5, 4, 5, 5, 5, 5, 4, 4, 5, 5, 5, 4, 3, 4, 5, 4, 4, 4, 5, 5, 5,\n",
      "        5, 4, 5, 6, 5, 5, 6, 5, 4, 4, 5, 6, 4, 5, 4, 5, 4, 5, 4, 5, 5, 5, 6, 4,\n",
      "        4, 4, 7, 5, 5, 6, 6, 5, 4, 6, 4, 5, 4, 5, 5, 4, 4, 4, 7, 5, 7, 4, 4, 5,\n",
      "        6, 5, 6, 4, 5, 6, 4, 6, 6, 6, 4, 6, 5, 5, 6, 4, 6, 3, 5, 5, 4, 5, 4, 5,\n",
      "        5, 5, 4, 6, 5, 4, 5, 5, 6, 5, 5, 4, 4, 5, 6, 7, 6, 4, 6, 6, 5, 5, 5, 4,\n",
      "        6, 5, 5, 5, 6, 5, 5, 5, 5, 5, 5, 5, 6, 6, 4, 5, 6, 5, 4, 5, 2, 5, 4, 5,\n",
      "        5, 5, 5, 5, 5, 5]), tensor([5, 7, 4, 4, 6, 5, 6, 5, 5, 3, 4, 4, 5, 4, 4, 4, 5, 4, 3, 5, 5, 5, 4, 6,\n",
      "        4, 4, 4, 3, 6, 5, 7, 4, 4, 4, 5, 5, 6, 5, 6, 7, 5, 7, 6, 5, 5, 5, 5, 4,\n",
      "        5, 4, 4, 5, 5, 5, 5, 6, 4, 5, 4, 4, 5, 6, 5, 5, 5, 5, 4, 5, 5, 5, 4, 5,\n",
      "        5, 4, 6, 6, 5, 5, 6, 5, 4, 3, 6, 4, 6, 4, 7, 5, 6, 6, 4, 2, 4, 5, 4, 6,\n",
      "        5, 6, 5, 5, 4, 4, 5, 5, 4, 2, 5, 4, 6, 5, 5, 5, 7, 5, 5, 5, 4, 4, 5, 5,\n",
      "        4, 5, 5, 6, 6, 4, 3, 6, 5, 5, 5, 5, 4, 4, 4, 5, 4, 6, 4, 4, 4, 6, 5, 4,\n",
      "        6, 5, 4, 4, 5, 5]), tensor([5, 3, 5, 5, 4, 4, 5, 4, 6, 5, 4, 6, 5, 5, 5, 5, 6, 4, 5, 5, 4, 6, 5, 7,\n",
      "        6, 4, 4, 5, 6, 5, 4, 6, 5, 6, 5, 4, 4, 5, 6, 5, 5, 6, 5, 5, 4, 6, 5, 3,\n",
      "        6, 4, 6, 5, 4, 7, 5, 4, 4, 5, 4, 4, 4, 6, 5, 5, 2, 6, 4, 5, 6, 5, 5, 7,\n",
      "        5, 4, 5, 5, 6, 6, 7, 5, 5, 5, 4, 5, 6, 5, 4, 4, 4, 6, 5, 4, 4, 5, 3, 5,\n",
      "        5, 4, 6, 4, 5, 4, 4, 5, 6, 3, 5, 5, 3, 4, 4, 5, 7, 6, 6, 5, 6, 4, 5, 5,\n",
      "        5, 6, 4, 6, 5, 4, 5, 5, 5, 5, 5, 3, 6, 5, 5, 6, 5, 6, 5, 4, 4, 5, 5, 5,\n",
      "        5, 4, 3, 5, 4, 5]), tensor([5, 4, 5, 7, 5, 5, 3, 6, 5, 4, 6, 5, 5, 5, 4, 4, 5, 5, 5, 4, 4, 6, 5, 5,\n",
      "        5, 6, 4, 4, 4, 4, 4, 5, 5, 5, 6, 6, 5, 6, 5, 6, 6, 4, 6, 5, 4, 4, 6, 5,\n",
      "        5, 3, 6, 7, 6, 6, 3, 4, 4, 4, 5, 6, 4, 5, 6, 5, 4, 4, 6, 5, 5, 4, 5, 7,\n",
      "        4, 4, 5, 6, 4, 6, 5, 4, 6, 3, 4, 5, 3, 6, 5, 5, 5, 6, 5, 6, 5, 5, 6, 5,\n",
      "        4, 6, 5, 4, 5, 4, 6, 7, 5, 4, 6, 5, 5, 5, 6, 5, 5, 4, 4, 5, 5, 5, 5, 5,\n",
      "        6, 5, 5, 5, 7, 5, 4, 5, 5, 6, 5, 4, 5, 4, 4, 4, 5, 5, 5, 5, 5, 5, 5, 4,\n",
      "        6, 6, 7, 5, 4, 6]), tensor([6, 5, 5, 4, 5, 4, 6, 6, 5, 4, 5, 4, 5, 6, 5, 4, 5, 5, 4, 5, 5, 4, 5, 3,\n",
      "        5, 3, 4, 5, 4, 6, 6, 4, 5, 5, 6, 5, 5, 5, 5, 5, 6, 5, 5, 5, 7, 4, 5, 7,\n",
      "        5, 5, 4, 5, 6, 5, 5, 5, 5, 4, 5, 4, 5, 4, 4, 5, 4, 4, 3, 5, 5, 5, 4, 7,\n",
      "        5, 3, 4, 5, 6, 4, 5, 5, 5, 4, 5, 5, 5, 4, 5, 5, 4, 5, 5, 6, 5, 5, 5, 5,\n",
      "        7, 4, 4, 4, 5, 5, 5, 6, 4, 4, 6, 6, 5, 6, 4, 4, 5, 5, 5, 5, 5, 5, 5, 6,\n",
      "        4, 4, 6, 5, 5, 5, 4, 4, 4, 3, 6, 4, 6, 5, 6, 3, 4, 5, 4, 7, 6, 5, 5, 4,\n",
      "        5, 6, 4, 5, 5, 5]), tensor([5, 7, 5, 5, 5, 4, 4, 6, 5, 4, 5, 4, 6, 4, 4, 4, 5, 5, 4, 6, 6, 5, 4, 4,\n",
      "        6, 4, 4, 4, 6, 5, 5, 5, 4, 5, 4, 7, 6, 4, 4, 6, 5, 5, 6, 6, 5, 4, 6, 4,\n",
      "        3, 5, 5, 5, 6, 4, 5, 3, 5, 6, 4, 5, 6, 6, 5, 6, 4, 6, 5, 3, 5, 6, 4, 4,\n",
      "        5, 5, 5, 4, 5, 4, 6, 5, 5, 6, 4, 6, 4, 4, 3, 4, 5, 5, 3, 5, 5, 7, 5, 6,\n",
      "        4, 5, 4, 5, 4, 5, 3, 5, 5, 5, 4, 5, 3, 6, 7, 5, 5, 6, 5, 5, 5, 4, 6, 6,\n",
      "        4, 4, 3, 4, 5, 5, 5, 6, 4, 2, 6, 5, 5, 4, 5, 5, 6, 5, 5, 4, 5, 5, 7, 4,\n",
      "        4, 5, 5, 3, 5, 5]), tensor([4, 4, 7, 6, 4, 6, 5, 5, 4, 6, 4, 2, 5, 5, 5, 5, 4, 6, 4, 5, 5, 5, 5, 4,\n",
      "        5, 4, 5, 4, 7, 7, 4, 5, 5, 7, 6, 4, 5, 6, 4, 5, 6, 4, 4, 6, 5, 5, 5, 5,\n",
      "        5, 4, 5, 4, 5, 4, 4, 4, 6, 3, 5, 5, 3, 5, 4, 4, 5, 5, 4, 4, 5, 5, 5, 4,\n",
      "        4, 4, 4, 5, 4, 5, 5, 4])]\n",
      "[tensor([5, 5, 5, 5, 5, 5, 4, 5, 4, 4, 4, 5, 5, 5, 5, 4, 4, 5, 4, 5, 5, 5, 5, 5,\n",
      "        4, 4, 5, 5, 5, 5, 5, 5, 5, 5, 5, 5, 4, 5, 5, 4, 5, 5, 5, 5, 5, 5, 5, 4,\n",
      "        4, 5, 5, 5, 5, 6, 6, 4, 4, 5, 5, 4, 5, 5, 5, 5, 5, 4, 5, 4, 5, 4, 4, 5,\n",
      "        5, 5, 5, 5, 4, 5, 5, 6, 5, 5, 5, 5, 5, 5, 4, 5, 6, 4, 5, 5, 4, 5, 5, 4,\n",
      "        5, 5, 4, 5, 5, 4, 5, 5, 5, 4, 5, 4, 4, 4, 5, 5, 5, 4, 5, 5, 5, 5, 5, 5,\n",
      "        5, 5, 5, 5, 5, 5, 5, 5, 5, 5, 4, 4, 5, 5, 4, 6, 5, 5, 5, 5, 5, 5, 5, 6,\n",
      "        5, 5, 5, 4, 5, 5]), tensor([5, 4, 5, 4, 5, 5, 5, 5, 5, 4, 5, 5, 5, 4, 5, 4, 5, 5, 4, 5, 5, 5, 5, 5,\n",
      "        4, 5, 4, 4, 5, 5, 4, 5, 5, 5, 5, 4, 5, 5, 5, 5, 4, 5, 5, 5, 5, 5, 4, 5,\n",
      "        5, 5, 5, 4, 5, 6, 5, 5, 4, 5, 5, 4, 5, 5, 5, 4, 5, 4, 4, 4, 4, 5, 5, 5,\n",
      "        5, 4, 5, 5, 4, 4, 4, 5, 5, 5, 5, 4, 5, 5, 5, 5, 5, 5, 4, 4, 4, 4, 5, 5,\n",
      "        5, 5, 6, 5, 4, 5, 5, 5, 5, 4, 5, 5, 5, 4, 5, 4, 5, 5, 5, 5, 4, 5, 5, 5,\n",
      "        5, 5, 5, 5, 5, 5, 5, 5, 5, 5, 4, 5, 4, 4, 4, 5, 4, 5, 4, 4, 5, 6, 6, 5,\n",
      "        6, 5, 4, 5, 5, 5]), tensor([5, 4, 5, 5, 5, 5, 4, 5, 5, 5, 5, 5, 4, 5, 5, 5, 5, 4, 5, 5, 5, 5, 5, 5,\n",
      "        5, 5, 5, 5, 5, 4, 4, 5, 4, 5, 5, 4, 5, 4, 5, 5, 5, 5, 5, 5, 4, 5, 5, 4,\n",
      "        5, 4, 5, 5, 4, 5, 5, 5, 5, 5, 5, 4, 5, 5, 5, 5, 4, 5, 4, 4, 5, 4, 5, 6,\n",
      "        5, 4, 5, 4, 5, 5, 5, 4, 5, 5, 5, 5, 5, 5, 5, 4, 4, 5, 5, 5, 5, 5, 5, 5,\n",
      "        5, 5, 5, 5, 5, 5, 5, 5, 5, 5, 5, 4, 5, 5, 4, 4, 5, 5, 5, 4, 5, 4, 5, 5,\n",
      "        5, 5, 4, 5, 5, 4, 5, 5, 5, 5, 5, 5, 5, 4, 5, 5, 4, 5, 5, 4, 5, 5, 5, 5,\n",
      "        5, 5, 4, 5, 4, 4]), tensor([5, 5, 5, 5, 5, 5, 5, 5, 4, 4, 4, 5, 5, 5, 4, 5, 5, 5, 5, 5, 4, 5, 5, 4,\n",
      "        5, 5, 4, 5, 4, 5, 4, 5, 5, 4, 4, 4, 4, 5, 5, 5, 5, 4, 5, 5, 5, 5, 5, 5,\n",
      "        5, 5, 5, 5, 5, 5, 4, 4, 5, 4, 5, 5, 4, 5, 5, 5, 5, 4, 5, 5, 5, 4, 5, 5,\n",
      "        4, 4, 5, 5, 5, 5, 5, 5, 5, 5, 5, 5, 4, 5, 5, 5, 5, 5, 5, 5, 5, 4, 4, 5,\n",
      "        4, 5, 5, 5, 5, 4, 5, 5, 4, 4, 5, 4, 5, 4, 5, 5, 4, 5, 4, 5, 5, 5, 5, 5,\n",
      "        5, 6, 5, 5, 5, 5, 4, 5, 5, 5, 5, 5, 5, 5, 4, 4, 5, 4, 5, 5, 5, 5, 4, 4,\n",
      "        6, 5, 5, 5, 4, 5]), tensor([5, 5, 4, 5, 6, 5, 5, 5, 5, 5, 5, 5, 5, 5, 5, 5, 5, 4, 4, 5, 5, 4, 4, 5,\n",
      "        5, 5, 4, 5, 4, 5, 5, 5, 5, 5, 5, 5, 4, 5, 5, 5, 5, 5, 6, 5, 5, 4, 5, 5,\n",
      "        5, 6, 5, 5, 5, 4, 5, 5, 5, 4, 4, 5, 5, 4, 4, 5, 6, 5, 4, 5, 4, 5, 5, 5,\n",
      "        5, 4, 4, 5, 5, 4, 5, 4, 5, 5, 5, 5, 5, 5, 5, 5, 5, 5, 5, 5, 6, 5, 5, 4,\n",
      "        5, 5, 5, 4, 5, 5, 4, 5, 5, 4, 5, 5, 4, 5, 5, 4, 5, 5, 5, 4, 4, 6, 5, 5,\n",
      "        5, 5, 5, 5, 5, 5, 4, 5, 5, 5, 5, 5, 5, 5, 5, 4, 5, 4, 4, 5, 5, 5, 5, 5,\n",
      "        5, 5, 4, 5, 4, 5]), tensor([5, 5, 4, 5, 5, 5, 5, 5, 5, 4, 5, 4, 5, 4, 5, 4, 4, 4, 4, 5, 5, 4, 4, 5,\n",
      "        5, 4, 4, 4, 5, 5, 5, 5, 5, 4, 5, 5, 5, 4, 4, 5, 5, 4, 5, 5, 5, 5, 5, 4,\n",
      "        5, 4, 4, 4, 5, 4, 5, 5, 5, 5, 4, 5, 5, 5, 5, 5, 4, 5, 5, 4, 5, 5, 4, 4,\n",
      "        5, 5, 4, 5, 5, 5, 5, 5, 6, 4, 5, 5, 5, 4, 4, 5, 5, 5, 5, 5, 5, 5, 5, 5,\n",
      "        5, 6, 5, 4, 4, 5, 5, 5, 4, 5, 4, 5, 5, 6, 5, 5, 5, 5, 5, 5, 5, 5, 5, 4,\n",
      "        5, 4, 5, 4, 5, 4, 6, 5, 4, 5, 5, 5, 5, 5, 5, 5, 5, 5, 5, 4, 5, 5, 5, 4,\n",
      "        5, 4, 5, 4, 5, 5]), tensor([4, 5, 4, 5, 5, 5, 5, 4, 5, 5, 4, 4, 4, 4, 4, 5, 5, 5, 4, 5, 5, 6, 5, 4,\n",
      "        4, 4, 5, 5, 5, 4, 4, 5, 5, 5, 4, 5, 5, 5, 5, 4, 5, 5, 5, 6, 4, 5, 5, 4,\n",
      "        5, 4, 5, 5, 5, 4, 5, 5, 5, 4, 5, 5, 4, 5, 4, 4, 5, 4, 5, 4, 5, 5, 5, 5,\n",
      "        5, 5, 4, 5, 5, 5, 5, 5])]\n"
     ]
    }
   ],
   "execution_count": 159
  },
  {
   "metadata": {},
   "cell_type": "code",
   "outputs": [],
   "execution_count": null,
   "source": "",
   "id": "c3604e73aa22697"
  }
 ],
 "metadata": {
  "kernelspec": {
   "display_name": "Python 3",
   "language": "python",
   "name": "python3"
  },
  "language_info": {
   "codemirror_mode": {
    "name": "ipython",
    "version": 2
   },
   "file_extension": ".py",
   "mimetype": "text/x-python",
   "name": "python",
   "nbconvert_exporter": "python",
   "pygments_lexer": "ipython2",
   "version": "2.7.6"
  }
 },
 "nbformat": 4,
 "nbformat_minor": 5
}
